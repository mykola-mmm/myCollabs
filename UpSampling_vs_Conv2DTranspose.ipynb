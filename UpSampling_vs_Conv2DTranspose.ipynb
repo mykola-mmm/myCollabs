{
  "nbformat": 4,
  "nbformat_minor": 0,
  "metadata": {
    "colab": {
      "provenance": [],
      "authorship_tag": "ABX9TyOg1RYUht2Zafz1APbC37+f",
      "include_colab_link": true
    },
    "kernelspec": {
      "name": "python3",
      "display_name": "Python 3"
    },
    "language_info": {
      "name": "python"
    }
  },
  "cells": [
    {
      "cell_type": "markdown",
      "metadata": {
        "id": "view-in-github",
        "colab_type": "text"
      },
      "source": [
        "<a href=\"https://colab.research.google.com/github/mykola-mmm/myCollabs/blob/main/UpSampling_vs_Conv2DTranspose.ipynb\" target=\"_parent\"><img src=\"https://colab.research.google.com/assets/colab-badge.svg\" alt=\"Open In Colab\"/></a>"
      ]
    },
    {
      "cell_type": "code",
      "execution_count": null,
      "metadata": {
        "id": "VQtKAoG2r38Y"
      },
      "outputs": [],
      "source": [
        "from numpy import asarray\n",
        "from tensorflow.keras.models import Sequential\n",
        "from tensorflow.keras.layers import UpSampling2D, Input\n"
      ]
    },
    {
      "cell_type": "code",
      "source": [
        "X = asarray([[1,2,3],[4,5,6],[7,8,9]])"
      ],
      "metadata": {
        "id": "ltjvDKlzsXV3"
      },
      "execution_count": null,
      "outputs": []
    },
    {
      "cell_type": "code",
      "source": [
        "X.shape"
      ],
      "metadata": {
        "colab": {
          "base_uri": "https://localhost:8080/"
        },
        "id": "FaBBgNGFsrlq",
        "outputId": "a88ab321-53e1-47c5-f127-24caf99b7f21"
      },
      "execution_count": null,
      "outputs": [
        {
          "output_type": "execute_result",
          "data": {
            "text/plain": [
              "(3, 3)"
            ]
          },
          "metadata": {},
          "execution_count": 328
        }
      ]
    },
    {
      "cell_type": "code",
      "source": [
        "X"
      ],
      "metadata": {
        "colab": {
          "base_uri": "https://localhost:8080/"
        },
        "id": "1RgkERHAtFIF",
        "outputId": "602cf99d-e02d-4ad6-8d39-f21f40dc514a"
      },
      "execution_count": null,
      "outputs": [
        {
          "output_type": "execute_result",
          "data": {
            "text/plain": [
              "array([[1, 2, 3],\n",
              "       [4, 5, 6],\n",
              "       [7, 8, 9]])"
            ]
          },
          "metadata": {},
          "execution_count": 329
        }
      ]
    },
    {
      "cell_type": "code",
      "source": [
        "X = X.reshape(1, X.shape[0], X.shape[1], 1)"
      ],
      "metadata": {
        "id": "6Sd7p65Ysy9r"
      },
      "execution_count": null,
      "outputs": []
    },
    {
      "cell_type": "code",
      "source": [
        "X.shape"
      ],
      "metadata": {
        "colab": {
          "base_uri": "https://localhost:8080/"
        },
        "id": "B0Dx8WyEs41Q",
        "outputId": "f27a5c45-a908-420f-f77a-2da78e5c5a93"
      },
      "execution_count": null,
      "outputs": [
        {
          "output_type": "execute_result",
          "data": {
            "text/plain": [
              "(1, 3, 3, 1)"
            ]
          },
          "metadata": {},
          "execution_count": 331
        }
      ]
    },
    {
      "cell_type": "code",
      "source": [
        "X"
      ],
      "metadata": {
        "colab": {
          "base_uri": "https://localhost:8080/"
        },
        "id": "cz1MlzG7s-aw",
        "outputId": "a49fe91c-1c88-439b-c01c-4da4549468a9"
      },
      "execution_count": null,
      "outputs": [
        {
          "output_type": "execute_result",
          "data": {
            "text/plain": [
              "array([[[[1],\n",
              "         [2],\n",
              "         [3]],\n",
              "\n",
              "        [[4],\n",
              "         [5],\n",
              "         [6]],\n",
              "\n",
              "        [[7],\n",
              "         [8],\n",
              "         [9]]]])"
            ]
          },
          "metadata": {},
          "execution_count": 332
        }
      ]
    },
    {
      "cell_type": "code",
      "source": [
        "model = Sequential()\n",
        "model.add(Input(shape=(X.shape[1], X.shape[2],1)))\n",
        "model.add(UpSampling2D(size=(3,2)))\n",
        "model.summary()"
      ],
      "metadata": {
        "colab": {
          "base_uri": "https://localhost:8080/"
        },
        "id": "sJ70tiCqtA07",
        "outputId": "74cf96ab-3535-434b-e45a-58660a2e0fc7"
      },
      "execution_count": null,
      "outputs": [
        {
          "output_type": "stream",
          "name": "stdout",
          "text": [
            "Model: \"sequential_43\"\n",
            "_________________________________________________________________\n",
            " Layer (type)                Output Shape              Param #   \n",
            "=================================================================\n",
            " up_sampling2d_19 (UpSampli  (None, 9, 6, 1)           0         \n",
            " ng2D)                                                           \n",
            "                                                                 \n",
            "=================================================================\n",
            "Total params: 0 (0.00 Byte)\n",
            "Trainable params: 0 (0.00 Byte)\n",
            "Non-trainable params: 0 (0.00 Byte)\n",
            "_________________________________________________________________\n"
          ]
        }
      ]
    },
    {
      "cell_type": "code",
      "source": [
        "upsampled_X = model.predict(X)"
      ],
      "metadata": {
        "colab": {
          "base_uri": "https://localhost:8080/"
        },
        "id": "mJX46OkCtmuK",
        "outputId": "63738d58-97a8-40f9-dcfd-1978f893b4ad"
      },
      "execution_count": null,
      "outputs": [
        {
          "output_type": "stream",
          "name": "stdout",
          "text": [
            "1/1 [==============================] - 0s 54ms/step\n"
          ]
        }
      ]
    },
    {
      "cell_type": "code",
      "source": [
        "upsampled_X = upsampled_X.reshape((upsampled_X.shape[1],upsampled_X.shape[2]))"
      ],
      "metadata": {
        "id": "ijN0LCz0t5a3"
      },
      "execution_count": null,
      "outputs": []
    },
    {
      "cell_type": "code",
      "source": [
        "upsampled_X"
      ],
      "metadata": {
        "colab": {
          "base_uri": "https://localhost:8080/"
        },
        "id": "RUUQctvct9Pt",
        "outputId": "c7ad546b-a174-4ca0-9146-1a3dd1405f13"
      },
      "execution_count": null,
      "outputs": [
        {
          "output_type": "execute_result",
          "data": {
            "text/plain": [
              "array([[1., 1., 2., 2., 3., 3.],\n",
              "       [1., 1., 2., 2., 3., 3.],\n",
              "       [1., 1., 2., 2., 3., 3.],\n",
              "       [4., 4., 5., 5., 6., 6.],\n",
              "       [4., 4., 5., 5., 6., 6.],\n",
              "       [4., 4., 5., 5., 6., 6.],\n",
              "       [7., 7., 8., 8., 9., 9.],\n",
              "       [7., 7., 8., 8., 9., 9.],\n",
              "       [7., 7., 8., 8., 9., 9.]], dtype=float32)"
            ]
          },
          "metadata": {},
          "execution_count": 336
        }
      ]
    },
    {
      "cell_type": "code",
      "source": [
        "from numpy import asarray\n",
        "from tensorflow.keras.models import Sequential\n",
        "from tensorflow.keras.layers import Conv2DTranspose, Input\n"
      ],
      "metadata": {
        "id": "9qQ2VXNwuXcV"
      },
      "execution_count": null,
      "outputs": []
    },
    {
      "cell_type": "code",
      "source": [
        "Y = asarray([[1,2,3],[4,5,6],[7,8,9]])"
      ],
      "metadata": {
        "id": "XYyBLZyHzrk9"
      },
      "execution_count": null,
      "outputs": []
    },
    {
      "cell_type": "code",
      "source": [
        "Y.shape"
      ],
      "metadata": {
        "colab": {
          "base_uri": "https://localhost:8080/"
        },
        "id": "AZeWX1LIzu8p",
        "outputId": "c6c9a181-89f7-498d-a165-9468e716524d"
      },
      "execution_count": null,
      "outputs": [
        {
          "output_type": "execute_result",
          "data": {
            "text/plain": [
              "(3, 3)"
            ]
          },
          "metadata": {},
          "execution_count": 339
        }
      ]
    },
    {
      "cell_type": "code",
      "source": [
        "Y"
      ],
      "metadata": {
        "colab": {
          "base_uri": "https://localhost:8080/"
        },
        "id": "ObmJsAGvzvZT",
        "outputId": "6f153e82-fa8d-4e0a-e00a-5729d54f1468"
      },
      "execution_count": null,
      "outputs": [
        {
          "output_type": "execute_result",
          "data": {
            "text/plain": [
              "array([[1, 2, 3],\n",
              "       [4, 5, 6],\n",
              "       [7, 8, 9]])"
            ]
          },
          "metadata": {},
          "execution_count": 340
        }
      ]
    },
    {
      "cell_type": "code",
      "source": [
        "Y = Y.reshape(1, Y.shape[0], Y.shape[1], 1)"
      ],
      "metadata": {
        "id": "mLHNj3GczvyM"
      },
      "execution_count": null,
      "outputs": []
    },
    {
      "cell_type": "code",
      "source": [
        "Y.shape"
      ],
      "metadata": {
        "colab": {
          "base_uri": "https://localhost:8080/"
        },
        "id": "4fhD_6yoz9Se",
        "outputId": "6a9dafb4-9c27-41d4-ad78-c84c5197e092"
      },
      "execution_count": null,
      "outputs": [
        {
          "output_type": "execute_result",
          "data": {
            "text/plain": [
              "(1, 3, 3, 1)"
            ]
          },
          "metadata": {},
          "execution_count": 342
        }
      ]
    },
    {
      "cell_type": "code",
      "source": [
        "Y"
      ],
      "metadata": {
        "colab": {
          "base_uri": "https://localhost:8080/"
        },
        "id": "olItRQnoz-a6",
        "outputId": "5b032d82-111e-41d4-a700-68cddd71f732"
      },
      "execution_count": null,
      "outputs": [
        {
          "output_type": "execute_result",
          "data": {
            "text/plain": [
              "array([[[[1],\n",
              "         [2],\n",
              "         [3]],\n",
              "\n",
              "        [[4],\n",
              "         [5],\n",
              "         [6]],\n",
              "\n",
              "        [[7],\n",
              "         [8],\n",
              "         [9]]]])"
            ]
          },
          "metadata": {},
          "execution_count": 343
        }
      ]
    },
    {
      "cell_type": "code",
      "source": [
        "# model_Y = Sequential()\n",
        "# model_Y.add(Input(shape=(Y.shape[1], Y.shape[2],1)))\n",
        "# model_Y.add(Conv2DTranspose(1, (1,1), strides = (2,2), kernel_initializer = 'ones'  ))\n",
        "# model_Y.summary()\n",
        "\n",
        "model_Y = Sequential()\n",
        "model_Y.add(Input(shape=(Y.shape[1], Y.shape[2],1)))\n",
        "model_Y.add(Conv2DTranspose(1, (1,1), strides = (2,2), kernel_initializer = 'ones'))\n",
        "model_Y.summary()\n",
        "\n",
        "upsampled_Y = model_Y.predict(Y)\n",
        "print(upsampled_Y.shape)"
      ],
      "metadata": {
        "colab": {
          "base_uri": "https://localhost:8080/"
        },
        "id": "k6mPV4MWz_aG",
        "outputId": "e1941bb4-683f-4281-83c0-c0f0db78a2bf"
      },
      "execution_count": null,
      "outputs": [
        {
          "output_type": "stream",
          "name": "stdout",
          "text": [
            "Model: \"sequential_45\"\n",
            "_________________________________________________________________\n",
            " Layer (type)                Output Shape              Param #   \n",
            "=================================================================\n",
            " conv2d_transpose_23 (Conv2  (None, 6, 6, 1)           2         \n",
            " DTranspose)                                                     \n",
            "                                                                 \n",
            "=================================================================\n",
            "Total params: 2 (8.00 Byte)\n",
            "Trainable params: 2 (8.00 Byte)\n",
            "Non-trainable params: 0 (0.00 Byte)\n",
            "_________________________________________________________________\n",
            "1/1 [==============================] - 0s 89ms/step\n",
            "(1, 6, 6, 1)\n"
          ]
        }
      ]
    },
    {
      "cell_type": "code",
      "source": [
        "upsampled_Y = model_Y.predict(Y)"
      ],
      "metadata": {
        "colab": {
          "base_uri": "https://localhost:8080/"
        },
        "id": "nKDMs-zx0OMh",
        "outputId": "dc69ebbd-e41d-4f4d-9d20-aa245ff74b26"
      },
      "execution_count": null,
      "outputs": [
        {
          "output_type": "stream",
          "name": "stdout",
          "text": [
            "1/1 [==============================] - 0s 35ms/step\n"
          ]
        }
      ]
    },
    {
      "cell_type": "code",
      "source": [
        "upsampled_Y = upsampled_Y.reshape((upsampled_Y.shape[1], upsampled_Y.shape[2]))"
      ],
      "metadata": {
        "id": "jbL_uSkV0s41"
      },
      "execution_count": null,
      "outputs": []
    },
    {
      "cell_type": "code",
      "source": [
        "upsampled_Y"
      ],
      "metadata": {
        "colab": {
          "base_uri": "https://localhost:8080/"
        },
        "id": "IZnwIffy0tvc",
        "outputId": "19191662-17bf-41db-d6ad-b1cc11e678f1"
      },
      "execution_count": null,
      "outputs": [
        {
          "output_type": "execute_result",
          "data": {
            "text/plain": [
              "array([[1., 1., 2., 2., 3., 3.],\n",
              "       [1., 1., 2., 2., 3., 3.],\n",
              "       [4., 4., 5., 5., 6., 6.],\n",
              "       [4., 4., 5., 5., 6., 6.],\n",
              "       [7., 7., 8., 8., 9., 9.],\n",
              "       [7., 7., 8., 8., 9., 9.]], dtype=float32)"
            ]
          },
          "metadata": {},
          "execution_count": 347
        }
      ]
    },
    {
      "cell_type": "code",
      "source": [],
      "metadata": {
        "id": "r-I4wEWE1E5e"
      },
      "execution_count": null,
      "outputs": []
    }
  ]
}